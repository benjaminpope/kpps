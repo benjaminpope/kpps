{
 "cells": [
  {
   "cell_type": "code",
   "execution_count": 1,
   "metadata": {
    "collapsed": false
   },
   "outputs": [
    {
     "name": "stdout",
     "output_type": "stream",
     "text": [
      "Populating the interactive namespace from numpy and matplotlib\n"
     ]
    }
   ],
   "source": [
    "%pylab inline"
   ]
  },
  {
   "cell_type": "code",
   "execution_count": 2,
   "metadata": {
    "collapsed": false
   },
   "outputs": [],
   "source": [
    "from __future__ import division\n",
    "import numpy as np\n",
    "import pandas as pd\n",
    "import pyfits as pf\n",
    "import shutil as sh\n",
    "\n",
    "from ConfigParser import ConfigParser\n",
    "from os import makedirs\n",
    "from os.path import join, abspath, basename, exists\n",
    "from argparse import ArgumentParser\n",
    "from datetime import datetime\n",
    "from time import sleep\n",
    "from glob import glob\n",
    "from copy import copy\n",
    "\n",
    "from numpy import arange, zeros\n",
    "from numpy.random import uniform\n",
    "from mpi4py import MPI\n",
    "\n",
    "from pytransit import MandelAgol as MA\n",
    "from exotk.utils.orbits import as_from_rhop\n",
    "from pybls import BLS"
   ]
  },
  {
   "cell_type": "code",
   "execution_count": 3,
   "metadata": {
    "collapsed": false
   },
   "outputs": [],
   "source": [
    "cp = ConfigParser()\n",
    "cp.read('test.cfg');"
   ]
  },
  {
   "cell_type": "code",
   "execution_count": 4,
   "metadata": {
    "collapsed": false
   },
   "outputs": [],
   "source": [
    "set_name = cp.get('Sample Set', 'name')\n",
    "sample_size = int(cp.get('Sample Set', 'size'))\n",
    "random.seed(int(cp.get('Sample Set', 'random_seed')))"
   ]
  },
  {
   "cell_type": "code",
   "execution_count": 5,
   "metadata": {
    "collapsed": false
   },
   "outputs": [],
   "source": [
    "data_dir = cp.get('Sample Set', 'raw_dir')\n",
    "set_dir = join('sets',set_name)\n",
    "all_files = glob(join(data_dir,'kt*.fits'))\n",
    "raw_files = random.permutation(all_files)[:sample_size]\n",
    "set_files = [join(set_dir,basename(f)) for f in raw_files]"
   ]
  },
  {
   "cell_type": "code",
   "execution_count": 6,
   "metadata": {
    "collapsed": false
   },
   "outputs": [],
   "source": [
    "if not exists(set_dir):\n",
    "    makedirs(set_dir)\n",
    "for f1,f2 in zip(raw_files,set_files):\n",
    "    sh.copy2(f1,f2)"
   ]
  },
  {
   "cell_type": "code",
   "execution_count": 7,
   "metadata": {
    "collapsed": false
   },
   "outputs": [],
   "source": [
    "tm =  MA(supersampling=10)\n",
    "\n",
    "for i,f in enumerate(set_files):\n",
    "    stellar_density = normal(1.7,0.1)\n",
    "    period          = uniform(0.7,20)\n",
    "    radius_ratio    = uniform(0.01,0.18)\n",
    "    zero_epoch      = uniform(0,period)\n",
    "    semi_major_axis = as_from_rhop(stellar_density,period)\n",
    "    inclination     = 0.5*pi\n",
    "    \n",
    "    hdul = pf.open(f, mode='update')\n",
    "    hdu = hdul[1]\n",
    "    hdu.data['pdcsap_flux'] *= tm.evaluate(hdu.data['time'], radius_ratio, [0.4,0.1],\n",
    "                                           zero_epoch, period, semi_major_axis, inclination)\n",
    "    hdul[1].header['inj_rho'] = stellar_density\n",
    "    hdul[1].header['inj_per'] = period\n",
    "    hdul[1].header['inj_k']   = radius_ratio\n",
    "    hdul[1].header['inj_t0']  = zero_epoch\n",
    "    hdul[1].header['inj_sma'] = semi_major_axis\n",
    "    hdul[1].header['inj_inc'] = inclination\n",
    "    hdul.flush()\n",
    "    hdul.close()"
   ]
  },
  {
   "cell_type": "code",
   "execution_count": 8,
   "metadata": {
    "collapsed": true
   },
   "outputs": [],
   "source": [
    "from os.path import relpath"
   ]
  },
  {
   "cell_type": "code",
   "execution_count": null,
   "metadata": {
    "collapsed": true
   },
   "outputs": [],
   "source": [
    "np.fromstring()"
   ]
  }
 ],
 "metadata": {
  "kernelspec": {
   "display_name": "Python 2",
   "language": "python",
   "name": "python2"
  },
  "language_info": {
   "codemirror_mode": {
    "name": "ipython",
    "version": 2
   },
   "file_extension": ".py",
   "mimetype": "text/x-python",
   "name": "python",
   "nbconvert_exporter": "python",
   "pygments_lexer": "ipython2",
   "version": "2.7.10"
  }
 },
 "nbformat": 4,
 "nbformat_minor": 0
}
